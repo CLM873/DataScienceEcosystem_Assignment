{
 "cells": [
  {
   "cell_type": "markdown",
   "id": "9db2b306-e9ca-490f-8e4d-d3e45db4c844",
   "metadata": {},
   "source": [
    "# Data Science Tools and Ecosystem"
   ]
  },
  {
   "cell_type": "markdown",
   "id": "ff32b156-b95d-4488-860a-6acc5c210506",
   "metadata": {},
   "source": [
    "In this notebook, Data Science Tools and Ecosystem are summarized."
   ]
  },
  {
   "cell_type": "markdown",
   "id": "c5424f8a-432c-4252-a22b-7823d508d978",
   "metadata": {},
   "source": [
    "**Objectives:**\n",
    "+ List popular languages for Data Science\n",
    "+ List commonly used libraries\n",
    "+ Table of IDEs (Integrated development Environments)\n",
    "+ Example of an arithmetic expression\n",
    "+ Example of expression to convert minutes to hours"
   ]
  },
  {
   "cell_type": "markdown",
   "id": "870d58f5-7dba-4986-9266-519cedd8a86c",
   "metadata": {},
   "source": [
    "Some of the popular languages that Data Scientists use are:\n",
    "1. Python\n",
    "2. Julia\n",
    "3. R\n",
    "5. Swift\n",
    "6. Javascript\n"
   ]
  },
  {
   "cell_type": "markdown",
   "id": "5bd146a6-a531-4c7a-b7f3-00b228e28c56",
   "metadata": {},
   "source": [
    "Some of the commonly used libraries used by Data Scientists include:\n",
    "1. NumPy\n",
    "2. Pandas\n",
    "3. Matplotlib\n",
    "4. Altair\n",
    "5. Plotly\n",
    "6. ipywidgets\n",
    " "
   ]
  },
  {
   "cell_type": "markdown",
   "id": "871575f0-ea97-4e5e-b621-3b6e76922d14",
   "metadata": {},
   "source": [
    "|Data Science Tools|\n",
    "|-------|\n",
    "|Jupyter Lab|\n",
    "|Visual Studio|\n",
    "|IBM Watsonx|"
   ]
  },
  {
   "cell_type": "markdown",
   "id": "9de8a594-b644-405b-8566-659078050480",
   "metadata": {},
   "source": [
    "### Below are a few examples of evaluating arithmetic expressions in Python."
   ]
  },
  {
   "cell_type": "code",
   "execution_count": 15,
   "id": "505ef5b5-685a-4efe-918c-2ff384d723b1",
   "metadata": {},
   "outputs": [
    {
     "data": {
      "text/plain": [
       "17"
      ]
     },
     "execution_count": 15,
     "metadata": {},
     "output_type": "execute_result"
    }
   ],
   "source": [
    "# This is a simple arithmetic expression to multiply then add integers.\n",
    "(3*4)+5"
   ]
  },
  {
   "cell_type": "code",
   "execution_count": 16,
   "id": "6fac6561-2bd6-4eba-bea8-3b7fa45f42c5",
   "metadata": {},
   "outputs": [
    {
     "data": {
      "text/plain": [
       "3.3333333333333335"
      ]
     },
     "execution_count": 16,
     "metadata": {},
     "output_type": "execute_result"
    }
   ],
   "source": [
    "# This will convert 200 minutes to hours by dividing by 60.\n",
    "200/60"
   ]
  },
  {
   "cell_type": "markdown",
   "id": "2388d61d-b783-44c3-92b3-5a87cba57e61",
   "metadata": {},
   "source": [
    "## Author\n",
    "CLMears"
   ]
  },
  {
   "cell_type": "code",
   "execution_count": null,
   "id": "e7fba2a2-e18d-4536-84b7-75c4317b11c3",
   "metadata": {},
   "outputs": [],
   "source": []
  }
 ],
 "metadata": {
  "kernelspec": {
   "display_name": "Python 3 (ipykernel)",
   "language": "python",
   "name": "python3"
  },
  "language_info": {
   "codemirror_mode": {
    "name": "ipython",
    "version": 3
   },
   "file_extension": ".py",
   "mimetype": "text/x-python",
   "name": "python",
   "nbconvert_exporter": "python",
   "pygments_lexer": "ipython3",
   "version": "3.11.9"
  }
 },
 "nbformat": 4,
 "nbformat_minor": 5
}
