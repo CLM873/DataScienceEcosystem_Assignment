{
 "cells": [
  {
   "cell_type": "markdown",
   "id": "61b0392f-8128-48a0-82f2-8340c3a3e4ef",
   "metadata": {},
   "source": [
    "# Data Science Tools and Ecosystem"
   ]
  },
  {
   "cell_type": "markdown",
   "id": "4ebd266b-1d4e-4f75-90cd-bb76bc7a4d20",
   "metadata": {},
   "source": [
    "In this notebook, Data Science Tools and Ecosystem are summarized."
   ]
  },
  {
   "cell_type": "markdown",
   "id": "d0294c85-50b7-49a4-aa80-56c95a22f1dc",
   "metadata": {},
   "source": [
    "**Objectives:**\n",
    "+ List popular languages for Data Science\n",
    "+ List commonly used libraries\n",
    "+ Table of IDEs (Integrated development Environments)\n",
    "+ Example of an arithmetic expression\n",
    "+ Example of expression to convert minutes to hours"
   ]
  },
  {
   "cell_type": "markdown",
   "id": "70da0962-66df-4e25-9dbd-74c78734cbca",
   "metadata": {},
   "source": [
    "Some of the popular languages that Data Scientists use are:\n",
    "1. Python\n",
    "2. Julia\n",
    "3. R\n",
    "5. SQL\n",
    "6. Javas\n"
   ]
  },
  {
   "cell_type": "markdown",
   "id": "4f691530-6547-4544-bf5c-f1df8e0b2741",
   "metadata": {},
   "source": [
    "Some of the commonly used libraries used by Data Scientists include:\n",
    "1. NumPy\n",
    "2. Pandas\n",
    "3. Matplotlib\n",
    "4. Scikit-learn\n",
    "5. Ggplot2\n",
    "6. PyTorch\n",
    " "
   ]
  },
  {
   "cell_type": "markdown",
   "id": "46a27bda-f616-4f77-afbb-9cccf6c4556a",
   "metadata": {},
   "source": [
    "|Data Science Tools|\n",
    "|-------|\n",
    "|Jupyter Notebooks|\n",
    "|R Studio|\n",
    "|Spyder|"
   ]
  },
  {
   "cell_type": "markdown",
   "id": "c84171ae-8182-45a9-b31f-3448188c344a",
   "metadata": {},
   "source": [
    "### Below are a few examples of evaluating arithmetic expressions in Python."
   ]
  },
  {
   "cell_type": "code",
   "execution_count": 3,
   "id": "505ef5b5-685a-4efe-918c-2ff384d723b1",
   "metadata": {},
   "outputs": [
    {
     "data": {
      "text/plain": [
       "17"
      ]
     },
     "execution_count": 3,
     "metadata": {},
     "output_type": "execute_result"
    }
   ],
   "source": [
    "# This is a simple arithmetic expression to multiply then add integers.\n",
    "(3*4)+5"
   ]
  },
  {
   "cell_type": "code",
   "execution_count": 4,
   "id": "6fac6561-2bd6-4eba-bea8-3b7fa45f42c5",
   "metadata": {},
   "outputs": [
    {
     "data": {
      "text/plain": [
       "3.3333333333333335"
      ]
     },
     "execution_count": 4,
     "metadata": {},
     "output_type": "execute_result"
    }
   ],
   "source": [
    "# This will convert 200 minutes to hours by dividing by 60.\n",
    "200/60"
   ]
  },
  {
   "cell_type": "markdown",
   "id": "4af0645f-76fb-44a8-922e-abccc6c74ab5",
   "metadata": {},
   "source": [
    "## Author\n",
    "CLMears"
   ]
  }
 ],
 "metadata": {
  "kernelspec": {
   "display_name": "Python 3 (ipykernel)",
   "language": "python",
   "name": "python3"
  },
  "language_info": {
   "codemirror_mode": {
    "name": "ipython",
    "version": 3
   },
   "file_extension": ".py",
   "mimetype": "text/x-python",
   "name": "python",
   "nbconvert_exporter": "python",
   "pygments_lexer": "ipython3",
   "version": "3.11.9"
  }
 },
 "nbformat": 4,
 "nbformat_minor": 5
}
